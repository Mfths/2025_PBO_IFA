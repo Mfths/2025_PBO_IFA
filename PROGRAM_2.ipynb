{
  "nbformat": 4,
  "nbformat_minor": 0,
  "metadata": {
    "colab": {
      "provenance": [],
      "authorship_tag": "ABX9TyMKB2j7DcWNRTDRFNG1mPz+",
      "include_colab_link": true
    },
    "kernelspec": {
      "name": "python3",
      "display_name": "Python 3"
    },
    "language_info": {
      "name": "python"
    }
  },
  "cells": [
    {
      "cell_type": "markdown",
      "metadata": {
        "id": "view-in-github",
        "colab_type": "text"
      },
      "source": [
        "<a href=\"https://colab.research.google.com/github/Mfths/2025_PBO_IFA/blob/main/PROGRAM_2.ipynb\" target=\"_parent\"><img src=\"https://colab.research.google.com/assets/colab-badge.svg\" alt=\"Open In Colab\"/></a>"
      ]
    },
    {
      "cell_type": "code",
      "execution_count": 2,
      "metadata": {
        "id": "xZhoOCNGIZDH",
        "colab": {
          "base_uri": "https://localhost:8080/"
        },
        "outputId": "db5c6368-3eb5-4892-dc8b-0dc4e69b42c6"
      },
      "outputs": [
        {
          "output_type": "stream",
          "name": "stdout",
          "text": [
            "Masukkan bilangan: 56\n",
            "56 adalah bilangan genap.\n",
            "56 bukan bilangan prima.\n",
            "Apakah ingin memasukkan angka lagi? (ya/y untuk lanjut, tidak/t untuk keluar): p\n",
            "Invalid, pilih 'ya/y' atau 'tidak/t'\n",
            "Apakah ingin memasukkan angka lagi? (ya/y untuk lanjut, tidak/t untuk keluar): 67\n",
            "Invalid, pilih 'ya/y' atau 'tidak/t'\n",
            "Apakah ingin memasukkan angka lagi? (ya/y untuk lanjut, tidak/t untuk keluar): t\n",
            "Program selesai.\n"
          ]
        }
      ],
      "source": [
        "def cek_bilangan(n):\n",
        "    if n % 2 == 0:\n",
        "        print(f\"{n} adalah bilangan genap.\")\n",
        "    else:\n",
        "        print(f\"{n} adalah bilangan ganjil.\")\n",
        "\n",
        "    if n > 1:\n",
        "        for i in range(2, int(n**0.5) + 1):\n",
        "            if n % i == 0:\n",
        "                print(f\"{n} bukan bilangan prima.\")\n",
        "                return\n",
        "        print(f\"{n} adalah bilangan prima.\")\n",
        "    else:\n",
        "        print(f\"{n} bukan bilangan prima.\")\n",
        "\n",
        "while True:\n",
        "    while True:\n",
        "        try:\n",
        "            angka = int(input(\"Masukkan bilangan: \"))\n",
        "            break\n",
        "        except ValueError:\n",
        "            print(\"Harap masukkan angka yang valid!\")\n",
        "\n",
        "    cek_bilangan(angka)\n",
        "\n",
        "    while True:\n",
        "        ulang = input(\"Apakah ingin memasukkan angka lagi? (ya/y untuk lanjut, tidak/t untuk keluar): \").strip().lower()\n",
        "        if ulang in [\"ya\", \"y\", \"tidak\", \"t\"]:\n",
        "            break\n",
        "        print(\"Invalid, pilih 'ya/y' atau 'tidak/t'\")\n",
        "\n",
        "    if ulang in [\"tidak\", \"t\"]:\n",
        "        print(\"Program selesai.\")\n",
        "        break"
      ]
    }
  ]
}