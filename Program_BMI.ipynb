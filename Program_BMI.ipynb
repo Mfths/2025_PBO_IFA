{
  "nbformat": 4,
  "nbformat_minor": 0,
  "metadata": {
    "colab": {
      "provenance": [],
      "authorship_tag": "ABX9TyMAe3epiFPXsa6F23pEyDfB",
      "include_colab_link": true
    },
    "kernelspec": {
      "name": "python3",
      "display_name": "Python 3"
    },
    "language_info": {
      "name": "python"
    }
  },
  "cells": [
    {
      "cell_type": "markdown",
      "metadata": {
        "id": "view-in-github",
        "colab_type": "text"
      },
      "source": [
        "<a href=\"https://colab.research.google.com/github/Mfths/2025_PBO_IFA/blob/main/Program_BMI.ipynb\" target=\"_parent\"><img src=\"https://colab.research.google.com/assets/colab-badge.svg\" alt=\"Open In Colab\"/></a>"
      ]
    },
    {
      "cell_type": "code",
      "execution_count": 1,
      "metadata": {
        "id": "FBmEDTveDc1S"
      },
      "outputs": [],
      "source": [
        "# Program Menghitung BMI\n"
      ]
    },
    {
      "cell_type": "code",
      "source": [
        "# Input berat dalam kg dan tinggi dalam cm\n",
        "berat = float(input(\"Masukkan berat badan (kg): \"))\n",
        "tinggi_cm = float(input(\"Masukkan tinggi badan (cm): \"))"
      ],
      "metadata": {
        "colab": {
          "base_uri": "https://localhost:8080/"
        },
        "id": "0blqXo0EDsvz",
        "outputId": "fd930585-f77d-4f93-dc00-84957509d5c2"
      },
      "execution_count": 7,
      "outputs": [
        {
          "name": "stdout",
          "output_type": "stream",
          "text": [
            "Masukkan berat badan (kg): 42\n",
            "Masukkan tinggi badan (cm): 151\n"
          ]
        }
      ]
    },
    {
      "cell_type": "code",
      "source": [
        "# Konversi tinggi ke meter\n",
        "tinggi_m = tinggi_cm / 100"
      ],
      "metadata": {
        "id": "QJfTE5t2D7vo"
      },
      "execution_count": 8,
      "outputs": []
    },
    {
      "cell_type": "code",
      "source": [
        "# Menghitung BMI\n",
        "bmi = berat / (tinggi_m ** 2)"
      ],
      "metadata": {
        "id": "W2Wll0nqEF6f"
      },
      "execution_count": 9,
      "outputs": []
    },
    {
      "cell_type": "code",
      "source": [
        "# Menentukan kategori BMI\n",
        "if bmi < 18.5:\n",
        "    kategori = \"Underweight\"\n",
        "elif 18.5 <= bmi < 24.9:\n",
        "    kategori = \"Normal\"\n",
        "else:\n",
        "    kategori = \"Overweight\""
      ],
      "metadata": {
        "id": "F8rojX83EKAK"
      },
      "execution_count": 10,
      "outputs": []
    },
    {
      "cell_type": "code",
      "source": [
        "# Menampilkan hasil\n",
        "print(f\"\\nBMI Anda: {bmi:.2f}\")\n",
        "print(f\"Kategori: {kategori}\")"
      ],
      "metadata": {
        "colab": {
          "base_uri": "https://localhost:8080/"
        },
        "id": "yDKbTTsgEOO6",
        "outputId": "225a961e-b651-4ead-8794-aa2296c6e414"
      },
      "execution_count": 11,
      "outputs": [
        {
          "output_type": "stream",
          "name": "stdout",
          "text": [
            "\n",
            "BMI Anda: 18.42\n",
            "Kategori: Underweight\n"
          ]
        }
      ]
    }
  ]
}