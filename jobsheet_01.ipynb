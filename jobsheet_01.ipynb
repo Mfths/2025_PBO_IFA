{
  "nbformat": 4,
  "nbformat_minor": 0,
  "metadata": {
    "colab": {
      "provenance": [],
      "authorship_tag": "ABX9TyOs+OOxD8AJF3SZ0mllmhME",
      "include_colab_link": true
    },
    "kernelspec": {
      "name": "python3",
      "display_name": "Python 3"
    },
    "language_info": {
      "name": "python"
    }
  },
  "cells": [
    {
      "cell_type": "markdown",
      "metadata": {
        "id": "view-in-github",
        "colab_type": "text"
      },
      "source": [
        "<a href=\"https://colab.research.google.com/github/Mfths/2025_PBO_IFA/blob/main/jobsheet_01.ipynb\" target=\"_parent\"><img src=\"https://colab.research.google.com/assets/colab-badge.svg\" alt=\"Open In Colab\"/></a>"
      ]
    },
    {
      "cell_type": "markdown",
      "source": [
        "Jobsheet 01 : Dasar Pemrograman Python"
      ],
      "metadata": {
        "id": "F_LPiVlxNgaW"
      }
    },
    {
      "cell_type": "markdown",
      "source": [
        "Praktikum 01 : Tipe dasar Data"
      ],
      "metadata": {
        "id": "OsGHGueISD9x"
      }
    },
    {
      "cell_type": "code",
      "source": [
        "#1. Number (int, float, complex)\n",
        "# Integer (int)\n",
        "angka_int = 10\n",
        "print(\"angka_int =\", angka_int, \"->\", type(angka_int))\n"
      ],
      "metadata": {
        "colab": {
          "base_uri": "https://localhost:8080/"
        },
        "id": "Yqn40BXqN8Fh",
        "outputId": "bcf87594-9ff4-429a-e809-ff5a85a0b255"
      },
      "execution_count": 1,
      "outputs": [
        {
          "output_type": "stream",
          "name": "stdout",
          "text": [
            "angka_int = 10 -> <class 'int'>\n"
          ]
        }
      ]
    },
    {
      "cell_type": "code",
      "source": [
        "# Float\n",
        "angka_float = 3.14\n",
        "print(\"angka_float =\", angka_float, \"->\", type(angka_float))"
      ],
      "metadata": {
        "colab": {
          "base_uri": "https://localhost:8080/"
        },
        "id": "AfUTRK2PPFjV",
        "outputId": "46b74a53-e8d8-4bf7-c52b-d62441ee12d2"
      },
      "execution_count": 4,
      "outputs": [
        {
          "output_type": "stream",
          "name": "stdout",
          "text": [
            "angka_float = 3.14 -> <class 'float'>\n"
          ]
        }
      ]
    },
    {
      "cell_type": "code",
      "source": [
        "# Complex\n",
        "angka_complex = 2 + 3j\n",
        "print(\"angka_complex =\", angka_complex, \"->\", type(angka_complex))"
      ],
      "metadata": {
        "colab": {
          "base_uri": "https://localhost:8080/"
        },
        "id": "XtzFy6UcPwb8",
        "outputId": "9253d43b-0018-49c4-b04d-64cdb235c15d"
      },
      "execution_count": 6,
      "outputs": [
        {
          "output_type": "stream",
          "name": "stdout",
          "text": [
            "angka_complex = (2+3j) -> <class 'complex'>\n"
          ]
        }
      ]
    },
    {
      "cell_type": "code",
      "source": [
        "# 2. Boolean\n",
        "is_active = True\n",
        "print(\"is_active =\", is_active, \"->\", type(is_active))\n"
      ],
      "metadata": {
        "colab": {
          "base_uri": "https://localhost:8080/"
        },
        "id": "9luzLL8-QBI_",
        "outputId": "59d8bb83-1898-49bf-acc0-dff711e152f6"
      },
      "execution_count": 7,
      "outputs": [
        {
          "output_type": "stream",
          "name": "stdout",
          "text": [
            "is_active = True -> <class 'bool'>\n"
          ]
        }
      ]
    },
    {
      "cell_type": "code",
      "source": [
        "# 3. String\n",
        "teks = \"Hello, Python!\"\n",
        "print(\"teks =\", teks, \"->\", type(teks))"
      ],
      "metadata": {
        "colab": {
          "base_uri": "https://localhost:8080/"
        },
        "id": "FCqaYsKjQMH0",
        "outputId": "5ee36e0c-9fd6-479b-97cc-791d64321684"
      },
      "execution_count": 8,
      "outputs": [
        {
          "output_type": "stream",
          "name": "stdout",
          "text": [
            "teks = Hello, Python! -> <class 'str'>\n"
          ]
        }
      ]
    },
    {
      "cell_type": "code",
      "source": [
        "# 4. List\n",
        "# List adalah tipe data terurut dan dapat diubah (mutable)\n",
        "daftar_angka = [1, 2, 3, 4, 5]\n",
        "print(\"daftar_angka =\", daftar_angka, \"->\", type(daftar_angka))\n"
      ],
      "metadata": {
        "colab": {
          "base_uri": "https://localhost:8080/"
        },
        "id": "VG8D5hVkQSHa",
        "outputId": "397b94af-401c-43bb-a290-ad09573d1be5"
      },
      "execution_count": 9,
      "outputs": [
        {
          "output_type": "stream",
          "name": "stdout",
          "text": [
            "daftar_angka = [1, 2, 3, 4, 5] -> <class 'list'>\n"
          ]
        }
      ]
    },
    {
      "cell_type": "code",
      "source": [
        "# 5. Tuple\n",
        "# Tuple adalah tipe data terurut tetapi tidak dapat diubah (immutable)\n",
        "koordinat = (10, 20)\n",
        "print(\"koordinat =\", koordinat, \"->\", type(koordinat))\n"
      ],
      "metadata": {
        "colab": {
          "base_uri": "https://localhost:8080/"
        },
        "id": "4MpiGmtXQaFb",
        "outputId": "11850980-45d7-4a2a-dbe3-edad4252b409"
      },
      "execution_count": 10,
      "outputs": [
        {
          "output_type": "stream",
          "name": "stdout",
          "text": [
            "koordinat = (10, 20) -> <class 'tuple'>\n"
          ]
        }
      ]
    },
    {
      "cell_type": "code",
      "source": [
        "# 6. Dictionary\n",
        "# Dictionary menyimpan data dalam pasangan key-value\n",
        "data_mahasiswa = {\n",
        "\"nama\": \"Andi\",\n",
        "\"nim\": \"A11.2022.12345\",\n",
        "\"jurusan\": \"Teknik Informatika\"\n",
        "}\n",
        "print(\"data_mahasiswa =\", data_mahasiswa, \"->\", type(data_mahasiswa))\n"
      ],
      "metadata": {
        "colab": {
          "base_uri": "https://localhost:8080/"
        },
        "id": "NK1TkjpmQryo",
        "outputId": "f0166b41-b96d-4136-d03b-1c5acbbc5a35"
      },
      "execution_count": 11,
      "outputs": [
        {
          "output_type": "stream",
          "name": "stdout",
          "text": [
            "data_mahasiswa = {'nama': 'Andi', 'nim': 'A11.2022.12345', 'jurusan': 'Teknik Informatika'} -> <class 'dict'>\n"
          ]
        }
      ]
    },
    {
      "cell_type": "code",
      "source": [
        "# 7. Set\n",
        "# Set adalah tipe data yang tidak terurut, unik (tiap elemen hanya muncul 1x)\n",
        "himpunan_angka = {1, 2, 3, 2, 1}\n",
        "print(\"himpunan_angka =\", himpunan_angka, \"->\", type(himpunan_angka))\n"
      ],
      "metadata": {
        "colab": {
          "base_uri": "https://localhost:8080/"
        },
        "id": "U0B8RtqyQ-oy",
        "outputId": "4596d831-6d23-4754-f0b1-56b33337bf05"
      },
      "execution_count": 13,
      "outputs": [
        {
          "output_type": "stream",
          "name": "stdout",
          "text": [
            "himpunan_angka = {1, 2, 3} -> <class 'set'>\n"
          ]
        }
      ]
    },
    {
      "cell_type": "code",
      "source": [
        "# 8. Contoh penggunaan konversi tipe data\n",
        "nilai_str = \"100\"\n",
        "print(\"\\nnilai_str =\", nilai_str, \"->\", type(nilai_str))\n",
        "nilai_int = int(nilai_str) # konversi string ke integer\n",
        "print(\"nilai_int =\", nilai_int, \"->\", type(nilai_int))\n"
      ],
      "metadata": {
        "colab": {
          "base_uri": "https://localhost:8080/"
        },
        "id": "xuB6v0VTRTPJ",
        "outputId": "e97388a6-e087-4914-c896-fe26f02f0958"
      },
      "execution_count": 14,
      "outputs": [
        {
          "output_type": "stream",
          "name": "stdout",
          "text": [
            "\n",
            "nilai_str = 100 -> <class 'str'>\n",
            "nilai_int = 100 -> <class 'int'>\n"
          ]
        }
      ]
    },
    {
      "cell_type": "markdown",
      "source": [
        "Praktikum 02 : Variabel dan Operasi Dasar"
      ],
      "metadata": {
        "id": "PfDf5AEERuyt"
      }
    },
    {
      "cell_type": "code",
      "source": [
        "# -*- coding: utf-8 -*-"
      ],
      "metadata": {
        "id": "BPOD3_cFR6i1"
      },
      "execution_count": 15,
      "outputs": []
    },
    {
      "cell_type": "code",
      "source": [
        "# 1. Pendeklarasian Variabel\n",
        "nama = \"Budi\"\n",
        "umur = 20\n",
        "tinggi = 170.5\n",
        "is_student = True\n",
        "\n",
        "print(\"Nama =\", nama)\n",
        "print(\"Umur =\", umur)\n",
        "print(\"Tinggi =\", tinggi, \"cm\")\n",
        "print(\"Mahasiswa =\", is_student)\n"
      ],
      "metadata": {
        "colab": {
          "base_uri": "https://localhost:8080/"
        },
        "id": "BHT7I-GdSR71",
        "outputId": "df639bb1-dea3-4271-f8a6-dc05a103bcbb"
      },
      "execution_count": 16,
      "outputs": [
        {
          "output_type": "stream",
          "name": "stdout",
          "text": [
            "Nama = Budi\n",
            "Umur = 20\n",
            "Tinggi = 170.5 cm\n",
            "Mahasiswa = True\n"
          ]
        }
      ]
    },
    {
      "cell_type": "code",
      "source": [
        "# Python tidak memerlukan deklarasi tipe data secara eksplisit.\n",
        "# Tipe data variabel akan menyesuaikan nilai yang diberikan.\n"
      ],
      "metadata": {
        "id": "HsaGKaLWSnEN"
      },
      "execution_count": 17,
      "outputs": []
    },
    {
      "cell_type": "code",
      "source": [
        "# 2. Operasi Aritmetika\n",
        "a = 10\n",
        "b = 3"
      ],
      "metadata": {
        "id": "cnvM9w3NSse1"
      },
      "execution_count": 19,
      "outputs": []
    },
    {
      "cell_type": "code",
      "source": [
        "penjumlahan = a + b # Tambah\n",
        "pengurangan = a - b # Kurang\n",
        "perkalian = a * b # Kali\n",
        "pembagian = a / b # Bagi (hasil float)\n",
        "pembagian_bulat = a // b # Bagi (bulat)\n",
        "modulus = a % b # Sisa bagi\n",
        "pangkat = a ** b # Pemangkatan"
      ],
      "metadata": {
        "id": "ufAfV8uySyYg"
      },
      "execution_count": 21,
      "outputs": []
    },
    {
      "cell_type": "code",
      "source": [
        "print(\"\\nOPERASI ARITMETIKA\")\n",
        "print(\"a =\", a, \", b =\", b)\n",
        "print(\"Penjumlahan =\", penjumlahan)\n",
        "print(\"Pengurangan =\", pengurangan)\n",
        "print(\"Perkalian =\", perkalian)\n",
        "print(\"Pembagian =\", pembagian)\n",
        "print(\"Pembagian Bulat =\", pembagian_bulat)\n",
        "print(\"Modulus =\", modulus)\n",
        "print(\"Pangkat =\", pangkat)"
      ],
      "metadata": {
        "colab": {
          "base_uri": "https://localhost:8080/"
        },
        "id": "CVB0aKN9TMlv",
        "outputId": "6e852d08-689c-4716-9f69-5b70cdb5f441"
      },
      "execution_count": 22,
      "outputs": [
        {
          "output_type": "stream",
          "name": "stdout",
          "text": [
            "\n",
            "OPERASI ARITMETIKA\n",
            "a = 10 , b = 3\n",
            "Penjumlahan = 13\n",
            "Pengurangan = 7\n",
            "Perkalian = 30\n",
            "Pembagian = 3.3333333333333335\n",
            "Pembagian Bulat = 3\n",
            "Modulus = 1\n",
            "Pangkat = 1000\n"
          ]
        }
      ]
    },
    {
      "cell_type": "code",
      "source": [
        "# 3. Operasi Perbandingan\n",
        "# Menghasilkan nilai Boolean (True/False)\n",
        "lebih_besar = a > b\n",
        "kurang_dari = a < b\n",
        "sama_dengan = a == b\n",
        "tidak_sama = a != b\n",
        "lebih_besar_sama = a >= b\n",
        "kurang_sama = a <= b\n"
      ],
      "metadata": {
        "id": "RldZ6zFPTeGh"
      },
      "execution_count": 23,
      "outputs": []
    },
    {
      "cell_type": "code",
      "source": [
        "print(\"\\nOPERASI PERBANDINGAN\")\n",
        "print(\"a > b =\", lebih_besar)\n",
        "print(\"a < b =\", kurang_dari)\n",
        "print(\"a == b =\", sama_dengan)\n",
        "print(\"a != b =\", tidak_sama)\n",
        "print(\"a >= b =\", lebih_besar_sama)\n",
        "print(\"a <= b =\", kurang_sama)"
      ],
      "metadata": {
        "colab": {
          "base_uri": "https://localhost:8080/"
        },
        "id": "kLvA2IlOTnmO",
        "outputId": "dc3b6970-97f6-46c4-9858-6e08c0926b41"
      },
      "execution_count": 24,
      "outputs": [
        {
          "output_type": "stream",
          "name": "stdout",
          "text": [
            "\n",
            "OPERASI PERBANDINGAN\n",
            "a > b = True\n",
            "a < b = False\n",
            "a == b = False\n",
            "a != b = True\n",
            "a >= b = True\n",
            "a <= b = False\n"
          ]
        }
      ]
    },
    {
      "cell_type": "code",
      "source": [
        "# 4. Operasi Logika\n",
        "# and, or, not\n"
      ],
      "metadata": {
        "id": "tyIDkxS_T2Jp"
      },
      "execution_count": 25,
      "outputs": []
    },
    {
      "cell_type": "code",
      "source": [
        "x = True\n",
        "y = False"
      ],
      "metadata": {
        "id": "thAkhdrRT4Qb"
      },
      "execution_count": 27,
      "outputs": []
    },
    {
      "cell_type": "code",
      "source": [
        "logika_and = x and y\n",
        "logika_or = x or y\n",
        "logika_not_x = not x"
      ],
      "metadata": {
        "id": "MLO-V5JBUJ5-"
      },
      "execution_count": 28,
      "outputs": []
    },
    {
      "cell_type": "code",
      "source": [
        "print(\"\\nOPERASI LOGIKA\")\n",
        "print(\"x =\", x, \", y =\", y)\n",
        "print(\"x and y =\", logika_and)\n",
        "print(\"x or y =\", logika_or)\n",
        "print(\"not x =\", logika_not_x)\n"
      ],
      "metadata": {
        "colab": {
          "base_uri": "https://localhost:8080/"
        },
        "id": "2Ji_UGlQUHf_",
        "outputId": "59dee31e-6003-4450-b182-7ea2b7e06cd3"
      },
      "execution_count": 29,
      "outputs": [
        {
          "output_type": "stream",
          "name": "stdout",
          "text": [
            "\n",
            "OPERASI LOGIKA\n",
            "x = True , y = False\n",
            "x and y = False\n",
            "x or y = True\n",
            "not x = False\n"
          ]
        }
      ]
    },
    {
      "cell_type": "code",
      "source": [
        "# 5. Contoh penggunaan di dalam percabangan\n",
        "if a > b and b > 0:\n",
        "      print(\"\\nKondisi terpenuhi: a lebih besar dari b, dan b masih positif.\")\n",
        "else:\n",
        "      print(\"\\nKondisi tidak terpenuhi atau b <= 0.\")"
      ],
      "metadata": {
        "colab": {
          "base_uri": "https://localhost:8080/"
        },
        "id": "zp3wAzQKUZvp",
        "outputId": "cb6c0f30-7c00-4ee5-ffe5-adf56c4dc15f"
      },
      "execution_count": 31,
      "outputs": [
        {
          "output_type": "stream",
          "name": "stdout",
          "text": [
            "\n",
            "Kondisi terpenuhi: a lebih besar dari b, dan b masih positif.\n"
          ]
        }
      ]
    },
    {
      "cell_type": "markdown",
      "source": [
        "Praktikum 03 : Percabangan"
      ],
      "metadata": {
        "id": "7kuSmntwU1UE"
      }
    },
    {
      "cell_type": "code",
      "source": [
        "# -*- coding: utf-8 -*-"
      ],
      "metadata": {
        "id": "9unaYfK_U7ID"
      },
      "execution_count": 32,
      "outputs": []
    },
    {
      "cell_type": "code",
      "source": [
        "# 1. IF Sederhana\n",
        "# Program hanya mengeksekusi blok jika kondisinya True"
      ],
      "metadata": {
        "id": "n2l1JMFuU-O7"
      },
      "execution_count": 33,
      "outputs": []
    },
    {
      "cell_type": "code",
      "source": [
        "nilai = 85\n",
        "print(\"Contoh IF Sederhana:\")\n",
        "if nilai > 80:\n",
        "    print(\"Selamat! Anda lulus dengan nilai tinggi.\\n\")\n"
      ],
      "metadata": {
        "colab": {
          "base_uri": "https://localhost:8080/"
        },
        "id": "JyRyRGsEVCZj",
        "outputId": "e4e78e2a-7380-4925-9c3a-e99eb3b55ee3"
      },
      "execution_count": 34,
      "outputs": [
        {
          "output_type": "stream",
          "name": "stdout",
          "text": [
            "Contoh IF Sederhana:\n",
            "Selamat! Anda lulus dengan nilai tinggi.\n",
            "\n"
          ]
        }
      ]
    },
    {
      "cell_type": "code",
      "source": [
        "# 2. IF-ELSE\n",
        "# Jika kondisi True, eksekusi blok if; jika False, eksekusi blok else"
      ],
      "metadata": {
        "id": "HLEzpiDfVMr9"
      },
      "execution_count": 35,
      "outputs": []
    },
    {
      "cell_type": "code",
      "source": [
        "umur = 17\n",
        "print(\"Contoh IF-ELSE:\")\n",
        "if umur >= 18:\n",
        "    print(\"Anda sudah cukup umur untuk mendapatkan SIM.\")\n",
        "else:\n",
        "    print(\"Anda belum cukup umur untuk mendapatkan SIM.\\n\")\n"
      ],
      "metadata": {
        "colab": {
          "base_uri": "https://localhost:8080/"
        },
        "id": "wD2PJXasVUJi",
        "outputId": "1d9b0ea4-23d5-4602-e07e-57fa32b2131e"
      },
      "execution_count": 36,
      "outputs": [
        {
          "output_type": "stream",
          "name": "stdout",
          "text": [
            "Contoh IF-ELSE:\n",
            "Anda belum cukup umur untuk mendapatkan SIM.\n",
            "\n"
          ]
        }
      ]
    },
    {
      "cell_type": "code",
      "source": [
        "# 3. IF-ELIF-ELSE\n",
        "# Menangani banyak kondisi secara berurutan.\n",
        "# Jika ada kondisi yang terpenuhi, blok yang bersangkutan dieksekusi,\n",
        "# lalu program melewati blok kondisi setelahnya.\n"
      ],
      "metadata": {
        "id": "OhikiNcbVgha"
      },
      "execution_count": 37,
      "outputs": []
    },
    {
      "cell_type": "code",
      "source": [
        "hari = \"Rabu\"\n",
        "print(\"Contoh IF-ELIF-ELSE:\")\n",
        "if hari == \"Senin\":\n",
        "    print(\"Hari Senin - Saatnya kembali bekerja!\")\n",
        "elif hari == \"Selasa\":\n",
        "    print(\"Hari Selasa - Jadwal rapat mingguan.\")\n",
        "elif hari == \"Rabu\":\n",
        "    print(\"Hari Rabu - Ada diskon di beberapa toko.\")\n",
        "else:\n",
        "    print(\"Hari lainnya - Atur jadwalmu dengan baik.\\n\")"
      ],
      "metadata": {
        "colab": {
          "base_uri": "https://localhost:8080/"
        },
        "id": "P7KcLLFyVoje",
        "outputId": "e3f7e884-a86c-4b36-8b34-8098be85008d"
      },
      "execution_count": 38,
      "outputs": [
        {
          "output_type": "stream",
          "name": "stdout",
          "text": [
            "Contoh IF-ELIF-ELSE:\n",
            "Hari Rabu - Ada diskon di beberapa toko.\n"
          ]
        }
      ]
    },
    {
      "cell_type": "code",
      "source": [
        "# 4. IF Bersarang (Nested IF)\n",
        "# Kondisi di dalam kondisi, biasa digunakan jika kita perlu\n",
        "# memeriksa sub-kondisi setelah kondisi pertama terpenuhi.\n"
      ],
      "metadata": {
        "id": "BGfSRzcpV5wl"
      },
      "execution_count": 39,
      "outputs": []
    },
    {
      "cell_type": "code",
      "source": [
        "suhu = 35\n",
        "print(\"Contoh IF Bersarang (Nested IF):\")\n",
        "if suhu > 30:\n",
        "    print(\"Cuaca cukup panas.\")\n",
        "    if suhu > 40:\n",
        "        print(\"Bahkan sangat terik! Disarankan banyak minum air.\")\n",
        "    else:\n",
        "        print(\"Masih relatif normal, tapi tetap jaga kesehatan.\")\n",
        "else:\n",
        "    print(\"Cuaca sepertinya cukup sejuk.\\n\")"
      ],
      "metadata": {
        "colab": {
          "base_uri": "https://localhost:8080/"
        },
        "id": "Bxim6OiJV_zU",
        "outputId": "f3e22586-2631-401a-f83c-5c79e5f7c40d"
      },
      "execution_count": 40,
      "outputs": [
        {
          "output_type": "stream",
          "name": "stdout",
          "text": [
            "Contoh IF Bersarang (Nested IF):\n",
            "Cuaca cukup panas.\n",
            "Masih relatif normal, tapi tetap jaga kesehatan.\n"
          ]
        }
      ]
    },
    {
      "cell_type": "code",
      "source": [
        "# 5. Menggabungkan Percabangan dengan Operasi Logika\n",
        "# Memeriksa beberapa kondisi sekaligus dengan and, or, not"
      ],
      "metadata": {
        "id": "S0ZWJht5Wbdx"
      },
      "execution_count": 41,
      "outputs": []
    },
    {
      "cell_type": "code",
      "source": [
        "nilai_teori = 75\n",
        "nilai_praktik = 80\n",
        "print(\"Contoh IF dengan Operasi Logika AND/OR:\")\n",
        "if nilai_teori >= 70 and nilai_praktik >= 70:\n",
        "    print(\"Anda lulus karena nilai teori dan praktik memadai.\")\n",
        "elif nilai_teori < 70 and nilai_praktik < 70:\n",
        "    print(\"Anda perlu meningkatkan nilai teori dan praktik.\")\n",
        "elif nilai_teori < 70:\n",
        "    print(\"Anda perlu meningkatkan nilai teori.\")\n",
        "else:\n",
        "    print(\"Anda perlu meningkatkan nilai praktik.\\n\")"
      ],
      "metadata": {
        "colab": {
          "base_uri": "https://localhost:8080/"
        },
        "id": "Gh3TUrbqWe-2",
        "outputId": "d9cd2456-7819-4c4b-a2b3-25043c80d796"
      },
      "execution_count": 42,
      "outputs": [
        {
          "output_type": "stream",
          "name": "stdout",
          "text": [
            "Contoh IF dengan Operasi Logika AND/OR:\n",
            "Anda lulus karena nilai teori dan praktik memadai.\n"
          ]
        }
      ]
    },
    {
      "cell_type": "code",
      "source": [
        "# 6. Penggunaan If Ternary (atau Conditional Expression)\n",
        "# Bentuk ringkas: <hasil_if_true> if <kondisi> else <hasil_if_false>"
      ],
      "metadata": {
        "id": "jzJHx2KRWw51"
      },
      "execution_count": 43,
      "outputs": []
    },
    {
      "cell_type": "code",
      "source": [
        "angka = -5\n",
        "print(\"Contoh If Ternary (Conditional Expression):\")\n",
        "status = \"Positif\" if angka > 0 else \"Negatif atau Nol\"\n",
        "print(\"Angka =\", angka, \"=>\", status)\n"
      ],
      "metadata": {
        "colab": {
          "base_uri": "https://localhost:8080/"
        },
        "id": "5dL7aA40W1Fg",
        "outputId": "b99c32ce-8fb8-4d15-a46e-e6305cb228f4"
      },
      "execution_count": 44,
      "outputs": [
        {
          "output_type": "stream",
          "name": "stdout",
          "text": [
            "Contoh If Ternary (Conditional Expression):\n",
            "Angka = -5 => Negatif atau Nol\n"
          ]
        }
      ]
    },
    {
      "cell_type": "markdown",
      "source": [
        "Praktikum 04 : Perulangnan"
      ],
      "metadata": {
        "id": "ZM2GmS4ZW_bU"
      }
    },
    {
      "cell_type": "code",
      "source": [
        "# -*- coding: utf-8 -*-"
      ],
      "metadata": {
        "id": "4ECskf0kXD6_"
      },
      "execution_count": 45,
      "outputs": []
    },
    {
      "cell_type": "code",
      "source": [
        "# 1. FOR Loop dengan range()\n",
        "print(\"1) FOR loop dengan range()\")\n",
        "for i in range(5):\n",
        "    print(\"Perulangan ke-\", i)\n",
        "# range(5) menghasilkan nilai 0, 1, 2, 3, dan 4\n",
        "# Sehingga perulangan akan berjalan sebanyak 5 kali"
      ],
      "metadata": {
        "colab": {
          "base_uri": "https://localhost:8080/"
        },
        "id": "wNYjh7a2XHTt",
        "outputId": "1d480852-07a6-41ac-c8c0-a0f50e029d35"
      },
      "execution_count": 46,
      "outputs": [
        {
          "output_type": "stream",
          "name": "stdout",
          "text": [
            "1) FOR loop dengan range()\n",
            "Perulangan ke- 0\n",
            "Perulangan ke- 1\n",
            "Perulangan ke- 2\n",
            "Perulangan ke- 3\n",
            "Perulangan ke- 4\n"
          ]
        }
      ]
    },
    {
      "cell_type": "code",
      "source": [
        "print() # pemisah output\n"
      ],
      "metadata": {
        "colab": {
          "base_uri": "https://localhost:8080/"
        },
        "id": "bXmXfnSlXVlE",
        "outputId": "f776a087-082e-404a-d4e5-ddf2d90f3ce6"
      },
      "execution_count": 47,
      "outputs": [
        {
          "output_type": "stream",
          "name": "stdout",
          "text": [
            "\n"
          ]
        }
      ]
    },
    {
      "cell_type": "code",
      "source": [
        "# 2. FOR Loop untuk mengiterasi List\n",
        "print(\"2) FOR loop mengiterasi list\")\n",
        "buah = [\"apel\", \"mangga\", \"jeruk\", \"pisang\"]\n",
        "for item in buah:\n",
        "    print(\"Buah:\", item)\n",
        "# Loop akan mengeksekusi setiap elemen dalam list \"buah\""
      ],
      "metadata": {
        "colab": {
          "base_uri": "https://localhost:8080/"
        },
        "id": "kqoWrL5HXb-g",
        "outputId": "48019fad-bb43-428e-b194-a45008f2c6e5"
      },
      "execution_count": 48,
      "outputs": [
        {
          "output_type": "stream",
          "name": "stdout",
          "text": [
            "2) FOR loop mengiterasi list\n",
            "Buah: apel\n",
            "Buah: mangga\n",
            "Buah: jeruk\n",
            "Buah: pisang\n"
          ]
        }
      ]
    },
    {
      "cell_type": "code",
      "source": [
        "print()"
      ],
      "metadata": {
        "colab": {
          "base_uri": "https://localhost:8080/"
        },
        "id": "_BiZ_kRgXoaj",
        "outputId": "6d317709-9482-439f-ab11-1aabd83831b7"
      },
      "execution_count": 49,
      "outputs": [
        {
          "output_type": "stream",
          "name": "stdout",
          "text": [
            "\n"
          ]
        }
      ]
    },
    {
      "cell_type": "code",
      "source": [
        "# 3. WHILE Loop\n",
        "print(\"3) WHILE loop sederhana\")\n",
        "count = 0\n",
        "while count < 5:\n",
        "    print(\"count =\", count)\n",
        "    count += 1 # increment\n",
        "# Perulangan while terus dijalankan selama kondisi (count < 5) bernilai True"
      ],
      "metadata": {
        "colab": {
          "base_uri": "https://localhost:8080/"
        },
        "id": "AQtqoSImXurG",
        "outputId": "082a0258-a1c7-48b1-f040-0194a92a345b"
      },
      "execution_count": 50,
      "outputs": [
        {
          "output_type": "stream",
          "name": "stdout",
          "text": [
            "3) WHILE loop sederhana\n",
            "count = 0\n",
            "count = 1\n",
            "count = 2\n",
            "count = 3\n",
            "count = 4\n"
          ]
        }
      ]
    },
    {
      "cell_type": "code",
      "source": [
        "print()"
      ],
      "metadata": {
        "colab": {
          "base_uri": "https://localhost:8080/"
        },
        "id": "WQoCA7pWX-ox",
        "outputId": "b7dfbc2a-cade-4d6d-836f-7568ea20df68"
      },
      "execution_count": 51,
      "outputs": [
        {
          "output_type": "stream",
          "name": "stdout",
          "text": [
            "\n"
          ]
        }
      ]
    },
    {
      "cell_type": "code",
      "source": [
        "# 4. BREAK pada Loop\n",
        "print(\"4) BREAK di dalam loop\")\n",
        "for i in range(10):\n",
        "    if i == 3:\n",
        "        print(\"Loop dihentikan pada i =\", i)\n",
        "        break # mengakhiri loop saat i = 3\n",
        "    print(\"i =\", i)\n",
        "# Keyword break langsung menghentikan keseluruhan perulangan"
      ],
      "metadata": {
        "colab": {
          "base_uri": "https://localhost:8080/"
        },
        "id": "l-U7zQryYBgz",
        "outputId": "2dcb008b-a46a-4f22-f9bb-d56ca9ae7eb1"
      },
      "execution_count": 52,
      "outputs": [
        {
          "output_type": "stream",
          "name": "stdout",
          "text": [
            "4) BREAK di dalam loop\n",
            "i = 0\n",
            "i = 1\n",
            "i = 2\n",
            "Loop dihentikan pada i = 3\n"
          ]
        }
      ]
    },
    {
      "cell_type": "code",
      "source": [
        "print()"
      ],
      "metadata": {
        "colab": {
          "base_uri": "https://localhost:8080/"
        },
        "id": "2m8Xo5fWZDB-",
        "outputId": "4414f7db-ea1e-46af-afa1-ca78f12646e5"
      },
      "execution_count": 53,
      "outputs": [
        {
          "output_type": "stream",
          "name": "stdout",
          "text": [
            "\n"
          ]
        }
      ]
    },
    {
      "cell_type": "code",
      "source": [
        "# 5. CONTINUE pada Loop\n",
        "print(\"5) CONTINUE di dalam loop\")\n",
        "for i in range(5):\n",
        "    if i == 2:\n",
        "        print(\"Lewati i =\", i, \"dengan continue\")\n",
        "        continue\n",
        "    print(\"i =\", i)\n",
        "# Saat i = 2, baris print(\"i =\", i) tidak akan dieksekusi\n"
      ],
      "metadata": {
        "colab": {
          "base_uri": "https://localhost:8080/"
        },
        "id": "ceHj5QgQZC-g",
        "outputId": "6f6a4123-81f4-4368-dbc0-2df2469019ca"
      },
      "execution_count": 58,
      "outputs": [
        {
          "output_type": "stream",
          "name": "stdout",
          "text": [
            "5) CONTINUE di dalam loop\n",
            "i = 0\n",
            "i = 1\n",
            "Lewati i = 2 dengan continue\n",
            "i = 3\n",
            "i = 4\n"
          ]
        }
      ]
    },
    {
      "cell_type": "code",
      "source": [
        "print()\n"
      ],
      "metadata": {
        "colab": {
          "base_uri": "https://localhost:8080/"
        },
        "id": "OxWomhLeaKmB",
        "outputId": "87656e74-5003-45b6-c1d6-3a219948e22e"
      },
      "execution_count": 59,
      "outputs": [
        {
          "output_type": "stream",
          "name": "stdout",
          "text": [
            "\n"
          ]
        }
      ]
    },
    {
      "cell_type": "code",
      "source": [
        "# 6. NESTED Loop (Loop Bersarang)\n",
        "print(\"6) NESTED loop\")\n",
        "for i in range(3): # Loop luar (outer loop)\n",
        "    for j in range(2): # Loop dalam (inner loop)\n",
        "        print(f\"i={i}, j={j}\")\n",
        "# Pada setiap iterasi i, loop j akan berjalan dari 0 sampai 1"
      ],
      "metadata": {
        "colab": {
          "base_uri": "https://localhost:8080/"
        },
        "id": "Gq23-UqVaPOT",
        "outputId": "5216d3f3-714b-473e-8601-cf4cec932f3d"
      },
      "execution_count": 60,
      "outputs": [
        {
          "output_type": "stream",
          "name": "stdout",
          "text": [
            "6) NESTED loop\n",
            "i=0, j=0\n",
            "i=0, j=1\n",
            "i=1, j=0\n",
            "i=1, j=1\n",
            "i=2, j=0\n",
            "i=2, j=1\n"
          ]
        }
      ]
    },
    {
      "cell_type": "code",
      "source": [
        "print()"
      ],
      "metadata": {
        "colab": {
          "base_uri": "https://localhost:8080/"
        },
        "id": "_0iwUmEHaejJ",
        "outputId": "641aa083-8099-4612-fa77-3f76bfdf81c4"
      },
      "execution_count": 61,
      "outputs": [
        {
          "output_type": "stream",
          "name": "stdout",
          "text": [
            "\n"
          ]
        }
      ]
    },
    {
      "cell_type": "code",
      "source": [
        "# 7. Memanfaatkan ELSE pada Loop\n",
        "print(\"7) ELSE pada loop for/while\")\n",
        "# Python memiliki fitur unik: blok else pada loop\n",
        "# Blok else akan dieksekusi jika loop selesai tanpa di-break.\n"
      ],
      "metadata": {
        "colab": {
          "base_uri": "https://localhost:8080/"
        },
        "id": "7ACDfYJTahlq",
        "outputId": "3cff87ae-5583-49c7-d745-a22c515d8b67"
      },
      "execution_count": 62,
      "outputs": [
        {
          "output_type": "stream",
          "name": "stdout",
          "text": [
            "7) ELSE pada loop for/while\n"
          ]
        }
      ]
    },
    {
      "cell_type": "code",
      "source": [
        "for x in range(3):\n",
        "    print(\"x =\", x)\n",
        "else:\n",
        "    print(\"Loop for telah selesai tanpa break.\\n\")\n"
      ],
      "metadata": {
        "colab": {
          "base_uri": "https://localhost:8080/"
        },
        "id": "Y1TTYtp5atD2",
        "outputId": "a0b742ec-c2e3-47d8-8649-0913ebb7ef9d"
      },
      "execution_count": 63,
      "outputs": [
        {
          "output_type": "stream",
          "name": "stdout",
          "text": [
            "x = 0\n",
            "x = 1\n",
            "x = 2\n",
            "Loop for telah selesai tanpa break.\n",
            "\n"
          ]
        }
      ]
    },
    {
      "cell_type": "code",
      "source": [
        "y = 0\n",
        "while y < 3:\n",
        "    print(\"y =\", y)\n",
        "    y += 1\n",
        "else:\n",
        "    print(\"Loop while telah selesai tanpa break.\\n\")"
      ],
      "metadata": {
        "colab": {
          "base_uri": "https://localhost:8080/"
        },
        "id": "XKOzRa05a3Xt",
        "outputId": "f6aeb47f-d4ef-4ba4-c112-20536be3dad5"
      },
      "execution_count": 64,
      "outputs": [
        {
          "output_type": "stream",
          "name": "stdout",
          "text": [
            "y = 0\n",
            "y = 1\n",
            "y = 2\n",
            "Loop while telah selesai tanpa break.\n",
            "\n"
          ]
        }
      ]
    },
    {
      "cell_type": "code",
      "source": [
        " # 8. PASS sebagai placeholder\n",
        "print(\"8) PASS (placeholder)\")\n",
        "for i in range(3):\n",
        "    if i == 1:\n",
        "      pass # pass tidak melakukan apa-apa, digunakan sebagai placeholder\n",
        "    print(\"i =\", i)\n"
      ],
      "metadata": {
        "colab": {
          "base_uri": "https://localhost:8080/"
        },
        "id": "2pNSVoXibCJ4",
        "outputId": "d562bb8b-f274-42fe-f27d-0baf578968c2"
      },
      "execution_count": 65,
      "outputs": [
        {
          "output_type": "stream",
          "name": "stdout",
          "text": [
            "8) PASS (placeholder)\n",
            "i = 0\n",
            "i = 1\n",
            "i = 2\n"
          ]
        }
      ]
    }
  ]
}